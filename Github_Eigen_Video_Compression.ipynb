{
  "nbformat": 4,
  "nbformat_minor": 0,
  "metadata": {
    "colab": {
      "name": "Github: Eigen Video Compression",
      "provenance": [],
      "collapsed_sections": [],
      "toc_visible": true
    },
    "kernelspec": {
      "name": "python3",
      "display_name": "Python 3"
    }
  },
  "cells": [
    {
      "cell_type": "markdown",
      "metadata": {
        "id": "kf2ftfUpaZ-i",
        "colab_type": "text"
      },
      "source": [
        "# Draft code"
      ]
    },
    {
      "cell_type": "markdown",
      "metadata": {
        "id": "Qapux95MFsfU",
        "colab_type": "text"
      },
      "source": [
        "## Example using sample lfw images"
      ]
    },
    {
      "cell_type": "code",
      "metadata": {
        "id": "pSZFiQvzAsjX",
        "colab_type": "code",
        "colab": {}
      },
      "source": [
        "# resize all pictures\n",
        "import numpy as np"
      ],
      "execution_count": null,
      "outputs": []
    },
    {
      "cell_type": "code",
      "metadata": {
        "id": "Nj9I11ZHFfIR",
        "colab_type": "code",
        "colab": {}
      },
      "source": [
        "import matplotlib.pyplot as plt"
      ],
      "execution_count": null,
      "outputs": []
    },
    {
      "cell_type": "code",
      "metadata": {
        "id": "dCeNDaNHDNAq",
        "colab_type": "code",
        "colab": {}
      },
      "source": [
        "from sklearn.datasets import fetch_lfw_people"
      ],
      "execution_count": null,
      "outputs": []
    },
    {
      "cell_type": "code",
      "metadata": {
        "id": "w_R0lm1oDlFO",
        "colab_type": "code",
        "colab": {
          "base_uri": "https://localhost:8080/",
          "height": 104
        },
        "outputId": "ffc8ecde-34f7-4db6-fb3b-54a8f92fb24c"
      },
      "source": [
        "lfw_dataset = fetch_lfw_people(min_faces_per_person=10)\n",
        "lfw_dataset.images.shape"
      ],
      "execution_count": null,
      "outputs": [
        {
          "output_type": "stream",
          "text": [
            "Downloading LFW metadata: https://ndownloader.figshare.com/files/5976012\n",
            "Downloading LFW metadata: https://ndownloader.figshare.com/files/5976009\n",
            "Downloading LFW metadata: https://ndownloader.figshare.com/files/5976006\n",
            "Downloading LFW data (~200MB): https://ndownloader.figshare.com/files/5976015\n"
          ],
          "name": "stderr"
        },
        {
          "output_type": "execute_result",
          "data": {
            "text/plain": [
              "(4324, 62, 47)"
            ]
          },
          "metadata": {
            "tags": []
          },
          "execution_count": 3
        }
      ]
    },
    {
      "cell_type": "code",
      "metadata": {
        "id": "ol2y8SL8BNva",
        "colab_type": "code",
        "colab": {
          "base_uri": "https://localhost:8080/",
          "height": 34
        },
        "outputId": "729050c1-0e8a-4103-e1f4-cc2b9abd6782"
      },
      "source": [
        "lfw_dataset.images[0].shape"
      ],
      "execution_count": null,
      "outputs": [
        {
          "output_type": "execute_result",
          "data": {
            "text/plain": [
              "(62, 47)"
            ]
          },
          "metadata": {
            "tags": []
          },
          "execution_count": 4
        }
      ]
    },
    {
      "cell_type": "code",
      "metadata": {
        "id": "n2RdDc-lEdNm",
        "colab_type": "code",
        "colab": {}
      },
      "source": [
        "reshaped_images = lfw_dataset.images.reshape((4324, 62*47))"
      ],
      "execution_count": null,
      "outputs": []
    },
    {
      "cell_type": "code",
      "metadata": {
        "id": "CktR6npyEbvJ",
        "colab_type": "code",
        "colab": {
          "base_uri": "https://localhost:8080/",
          "height": 34
        },
        "outputId": "a667fdb3-f082-4153-b35d-fdd1b272b9cb"
      },
      "source": [
        "reshaped_images.shape"
      ],
      "execution_count": null,
      "outputs": [
        {
          "output_type": "execute_result",
          "data": {
            "text/plain": [
              "(4324, 2914)"
            ]
          },
          "metadata": {
            "tags": []
          },
          "execution_count": 8
        }
      ]
    },
    {
      "cell_type": "code",
      "metadata": {
        "id": "ih4lOyHCEoU7",
        "colab_type": "code",
        "colab": {}
      },
      "source": [
        "# find the average"
      ],
      "execution_count": null,
      "outputs": []
    },
    {
      "cell_type": "code",
      "metadata": {
        "id": "OLqfLogYEw0V",
        "colab_type": "code",
        "colab": {}
      },
      "source": [
        "avg_image = np.average(reshaped_images, axis=0)"
      ],
      "execution_count": null,
      "outputs": []
    },
    {
      "cell_type": "markdown",
      "metadata": {
        "id": "Ci-lQ5EUSEy8",
        "colab_type": "text"
      },
      "source": [
        "## Image shape"
      ]
    },
    {
      "cell_type": "code",
      "metadata": {
        "id": "onl3PlqhFEho",
        "colab_type": "code",
        "colab": {}
      },
      "source": [
        "avg_image.shape"
      ],
      "execution_count": null,
      "outputs": []
    },
    {
      "cell_type": "code",
      "metadata": {
        "id": "i49p__PDFFp6",
        "colab_type": "code",
        "colab": {}
      },
      "source": [
        "plt.imshow(avg_image.reshape((62,47)))"
      ],
      "execution_count": null,
      "outputs": []
    },
    {
      "cell_type": "markdown",
      "metadata": {
        "id": "NdEo_snsSG21",
        "colab_type": "text"
      },
      "source": [
        "## Subtract average image"
      ]
    },
    {
      "cell_type": "code",
      "metadata": {
        "id": "fVTBm87QGVMK",
        "colab_type": "code",
        "colab": {}
      },
      "source": [
        "centered_images = reshaped_images - avg_image"
      ],
      "execution_count": null,
      "outputs": []
    },
    {
      "cell_type": "code",
      "metadata": {
        "id": "r70mhH2fGvLO",
        "colab_type": "code",
        "colab": {
          "base_uri": "https://localhost:8080/",
          "height": 34
        },
        "outputId": "b8ce89ee-ac04-4106-cf8b-7bcec179bb2b"
      },
      "source": [
        "centered_images.shape"
      ],
      "execution_count": null,
      "outputs": [
        {
          "output_type": "execute_result",
          "data": {
            "text/plain": [
              "(4324, 2914)"
            ]
          },
          "metadata": {
            "tags": []
          },
          "execution_count": 32
        }
      ]
    },
    {
      "cell_type": "markdown",
      "metadata": {
        "id": "DRUKlWBvSK0f",
        "colab_type": "text"
      },
      "source": [
        "## SVD"
      ]
    },
    {
      "cell_type": "code",
      "metadata": {
        "id": "vlhkhox-GQxq",
        "colab_type": "code",
        "colab": {}
      },
      "source": [
        "U, sigma, VT = np.linalg.svd(centered_images, full_matrices=False)"
      ],
      "execution_count": null,
      "outputs": []
    },
    {
      "cell_type": "code",
      "metadata": {
        "id": "c65NRcUSHDOs",
        "colab_type": "code",
        "colab": {
          "base_uri": "https://localhost:8080/",
          "height": 34
        },
        "outputId": "1409c383-f090-4c6d-bd58-96b29ae4fd06"
      },
      "source": [
        "U.shape"
      ],
      "execution_count": null,
      "outputs": [
        {
          "output_type": "execute_result",
          "data": {
            "text/plain": [
              "(4324, 2914)"
            ]
          },
          "metadata": {
            "tags": []
          },
          "execution_count": 34
        }
      ]
    },
    {
      "cell_type": "code",
      "metadata": {
        "id": "Hj5c4I9IHE1n",
        "colab_type": "code",
        "colab": {
          "base_uri": "https://localhost:8080/",
          "height": 34
        },
        "outputId": "7e9c1cd2-c066-428f-afa7-4819960984fc"
      },
      "source": [
        "sigma.shape"
      ],
      "execution_count": null,
      "outputs": [
        {
          "output_type": "execute_result",
          "data": {
            "text/plain": [
              "(2914,)"
            ]
          },
          "metadata": {
            "tags": []
          },
          "execution_count": 35
        }
      ]
    },
    {
      "cell_type": "code",
      "metadata": {
        "id": "rr5ATMvrHFjf",
        "colab_type": "code",
        "colab": {
          "base_uri": "https://localhost:8080/",
          "height": 34
        },
        "outputId": "f608639b-1f4f-4b33-9039-e69254f3a4b5"
      },
      "source": [
        "VT.shape"
      ],
      "execution_count": null,
      "outputs": [
        {
          "output_type": "execute_result",
          "data": {
            "text/plain": [
              "(2914, 2914)"
            ]
          },
          "metadata": {
            "tags": []
          },
          "execution_count": 36
        }
      ]
    },
    {
      "cell_type": "markdown",
      "metadata": {
        "id": "4UgHm3ChSN6C",
        "colab_type": "text"
      },
      "source": [
        "## Plot principal component decay"
      ]
    },
    {
      "cell_type": "code",
      "metadata": {
        "id": "6UyxUA2bHGBI",
        "colab_type": "code",
        "colab": {
          "base_uri": "https://localhost:8080/",
          "height": 285
        },
        "outputId": "b135df70-4858-4fd2-cdb3-5f381c3183d1"
      },
      "source": [
        "# how the SVD sigma values decay\n",
        "plt.plot([sigma[i] for i in range(30)])"
      ],
      "execution_count": null,
      "outputs": [
        {
          "output_type": "execute_result",
          "data": {
            "text/plain": [
              "[<matplotlib.lines.Line2D at 0x7f4524a21748>]"
            ]
          },
          "metadata": {
            "tags": []
          },
          "execution_count": 50
        },
        {
          "output_type": "display_data",
          "data": {
            "image/png": "[encoded data removed]",
            "text/plain": [
              "<Figure size 432x288 with 1 Axes>"
            ]
          },
          "metadata": {
            "tags": [],
            "needs_background": "light"
          }
        }
      ]
    },
    {
      "cell_type": "markdown",
      "metadata": {
        "id": "ASSi5VmTSSHW",
        "colab_type": "text"
      },
      "source": [
        "## Visualize one eigenface"
      ]
    },
    {
      "cell_type": "code",
      "metadata": {
        "id": "R84-TGBgITAp",
        "colab_type": "code",
        "colab": {
          "base_uri": "https://localhost:8080/",
          "height": 285
        },
        "outputId": "1918be06-dbe3-4f49-e584-ef48c3558432"
      },
      "source": [
        "plt.imshow(VT[0].reshape(62,47))\n",
        "# don't need to transpose V."
      ],
      "execution_count": null,
      "outputs": [
        {
          "output_type": "execute_result",
          "data": {
            "text/plain": [
              "<matplotlib.image.AxesImage at 0x7f4524827358>"
            ]
          },
          "metadata": {
            "tags": []
          },
          "execution_count": 57
        },
        {
          "output_type": "display_data",
          "data": {
            "image/png": "[encoded data removed]",
            "text/plain": [
              "<Figure size 432x288 with 1 Axes>"
            ]
          },
          "metadata": {
            "tags": [],
            "needs_background": "light"
          }
        }
      ]
    },
    {
      "cell_type": "markdown",
      "metadata": {
        "id": "1ZjmvcCSSUc2",
        "colab_type": "text"
      },
      "source": [
        "## Compress image to components"
      ]
    },
    {
      "cell_type": "code",
      "metadata": {
        "id": "-4dUL0KgJK_f",
        "colab_type": "code",
        "colab": {}
      },
      "source": [
        "# convert any image to eigenfaces\n",
        "original = lfw_dataset.images[0].reshape(62*47)\n",
        "# plt.imshow(original)\n",
        "# take top 20 vectors\n",
        "components = np.matmul(original, VT[:30,:].T)"
      ],
      "execution_count": null,
      "outputs": []
    },
    {
      "cell_type": "code",
      "metadata": {
        "id": "Tulr1auiJo26",
        "colab_type": "code",
        "colab": {}
      },
      "source": [
        "# now try combining them\n",
        "combined = np.matmul(components, VT[:30,:])"
      ],
      "execution_count": null,
      "outputs": []
    },
    {
      "cell_type": "code",
      "metadata": {
        "id": "uRx6gkIsJ9JK",
        "colab_type": "code",
        "colab": {
          "base_uri": "https://localhost:8080/",
          "height": 285
        },
        "outputId": "c981f232-e319-48ac-e963-75e5a3a3404e"
      },
      "source": [
        "plt.imshow(combined.reshape(62,47))"
      ],
      "execution_count": null,
      "outputs": [
        {
          "output_type": "execute_result",
          "data": {
            "text/plain": [
              "<matplotlib.image.AxesImage at 0x7f45246642e8>"
            ]
          },
          "metadata": {
            "tags": []
          },
          "execution_count": 70
        },
        {
          "output_type": "display_data",
          "data": {
            "image/png": "[encoded data removed]",
            "text/plain": [
              "<Figure size 432x288 with 1 Axes>"
            ]
          },
          "metadata": {
            "tags": [],
            "needs_background": "light"
          }
        }
      ]
    },
    {
      "cell_type": "markdown",
      "metadata": {
        "id": "UXc-jscaSXYW",
        "colab_type": "text"
      },
      "source": [
        "## Comparison with original"
      ]
    },
    {
      "cell_type": "code",
      "metadata": {
        "id": "dEB8w0bjKnDZ",
        "colab_type": "code",
        "colab": {
          "base_uri": "https://localhost:8080/",
          "height": 285
        },
        "outputId": "2f6d718b-1fa9-452f-92a4-cfa6fe70a9cd"
      },
      "source": [
        "# compare with original\n",
        "plt.imshow(original.reshape(62,47))"
      ],
      "execution_count": null,
      "outputs": [
        {
          "output_type": "execute_result",
          "data": {
            "text/plain": [
              "<matplotlib.image.AxesImage at 0x7f452467c0b8>"
            ]
          },
          "metadata": {
            "tags": []
          },
          "execution_count": 66
        },
        {
          "output_type": "display_data",
          "data": {
            "image/png": "[encoded data removed]",
            "text/plain": [
              "<Figure size 432x288 with 1 Axes>"
            ]
          },
          "metadata": {
            "tags": [],
            "needs_background": "light"
          }
        }
      ]
    },
    {
      "cell_type": "code",
      "metadata": {
        "id": "JpQqLbIBK88I",
        "colab_type": "code",
        "colab": {
          "base_uri": "https://localhost:8080/",
          "height": 34
        },
        "outputId": "99ae5eee-6d34-456b-cd2c-2873d29e3168"
      },
      "source": [
        "components.shape # this is how much data per frame of face"
      ],
      "execution_count": null,
      "outputs": [
        {
          "output_type": "execute_result",
          "data": {
            "text/plain": [
              "(30,)"
            ]
          },
          "metadata": {
            "tags": []
          },
          "execution_count": 75
        }
      ]
    },
    {
      "cell_type": "markdown",
      "metadata": {
        "id": "iE5TY6oLSb4y",
        "colab_type": "text"
      },
      "source": [
        "## Generalized approach"
      ]
    },
    {
      "cell_type": "code",
      "metadata": {
        "id": "K6UGj3RpSrmM",
        "colab_type": "code",
        "colab": {}
      },
      "source": [
        "from PIL import Image\n",
        "# example with small image list.\n",
        "image_list = [\"IMG_8980.JPG\",\n",
        "              \"IMG_8981.JPG\",\n",
        "              \"IMG_8982.JPG\",\n",
        "              \"IMG_8983.JPG\",\n",
        "              \"IMG_8984.JPG\",\n",
        "              \"IMG_8985.JPG\",\n",
        "              \"IMG_8986.JPG\",\n",
        "              \"IMG_8987.JPG\"]\n",
        "\n",
        "images = []\n",
        "for image in image_list:\n",
        "  im = np.array(Image.open(image))/255\n",
        "  images.append(im)\n",
        "\n",
        "image_data = np.stack(images)"
      ],
      "execution_count": null,
      "outputs": []
    },
    {
      "cell_type": "code",
      "metadata": {
        "id": "6JEubSV6gvF0",
        "colab_type": "code",
        "colab": {
          "base_uri": "https://localhost:8080/",
          "height": 34
        },
        "outputId": "17c82fc0-1705-45fb-cf77-ab71e70de50b"
      },
      "source": [
        "image_data.shape"
      ],
      "execution_count": null,
      "outputs": [
        {
          "output_type": "execute_result",
          "data": {
            "text/plain": [
              "(8, 480, 640, 3)"
            ]
          },
          "metadata": {
            "tags": []
          },
          "execution_count": 110
        }
      ]
    },
    {
      "cell_type": "code",
      "metadata": {
        "id": "eaEVOm8zjBpp",
        "colab_type": "code",
        "colab": {}
      },
      "source": [
        "plt.imshow(image_data[0])"
      ],
      "execution_count": null,
      "outputs": []
    },
    {
      "cell_type": "code",
      "metadata": {
        "id": "WdaBqjhyhydP",
        "colab_type": "code",
        "colab": {}
      },
      "source": [
        "avg_image = np.average(image_data, axis=0)\n",
        "# need to convert all values to integers or else it wont plot, bc 0-1 for floats\n",
        "# and 255 for integers.\n",
        "\n",
        "plt.imshow(avg_image)"
      ],
      "execution_count": null,
      "outputs": []
    },
    {
      "cell_type": "code",
      "metadata": {
        "id": "7TF1AKLWkzD9",
        "colab_type": "code",
        "colab": {}
      },
      "source": [
        "centered_images = image_data - avg_image"
      ],
      "execution_count": null,
      "outputs": []
    },
    {
      "cell_type": "code",
      "metadata": {
        "id": "eZKSIKOlhxzd",
        "colab_type": "code",
        "colab": {}
      },
      "source": [
        "reshaped = centered_images.reshape(8, 480*640, 3)"
      ],
      "execution_count": null,
      "outputs": []
    },
    {
      "cell_type": "code",
      "metadata": {
        "id": "AnndEUu4g8OU",
        "colab_type": "code",
        "colab": {}
      },
      "source": [
        "R = reshaped[:,:,0]\n",
        "G = reshaped[:,:,1]\n",
        "B = reshaped[:,:,2]"
      ],
      "execution_count": null,
      "outputs": []
    },
    {
      "cell_type": "code",
      "metadata": {
        "id": "mNearKILhks-",
        "colab_type": "code",
        "colab": {
          "base_uri": "https://localhost:8080/",
          "height": 282
        },
        "outputId": "a8056570-4f97-4950-cc00-3706347363b7"
      },
      "source": [
        "# do SVD on each\n",
        "# red channel\n",
        "\n",
        "U, sigma, VT = np.linalg.svd(R, full_matrices=False)\n",
        "plt.plot([sigma[i] for i in range(8)]) # only 8 bc 8 max images"
      ],
      "execution_count": null,
      "outputs": [
        {
          "output_type": "execute_result",
          "data": {
            "text/plain": [
              "[<matplotlib.lines.Line2D at 0x7f452283d9b0>]"
            ]
          },
          "metadata": {
            "tags": []
          },
          "execution_count": 128
        },
        {
          "output_type": "display_data",
          "data": {
            "image/png": "[encoded data removed]",
            "text/plain": [
              "<Figure size 432x288 with 1 Axes>"
            ]
          },
          "metadata": {
            "tags": [],
            "needs_background": "light"
          }
        }
      ]
    },
    {
      "cell_type": "code",
      "metadata": {
        "id": "_rZ91jjahlXd",
        "colab_type": "code",
        "colab": {}
      },
      "source": [
        "# first eigenface\n",
        "plt.imshow(VT[0].reshape(480,640))"
      ],
      "execution_count": null,
      "outputs": []
    },
    {
      "cell_type": "code",
      "metadata": {
        "id": "QDKyJQ0amKBQ",
        "colab_type": "code",
        "colab": {}
      },
      "source": [
        "# components\n",
        "# convert any image to eigenfaces\n",
        "\n",
        "# red channel only\n",
        "original = image_data[0].reshape(480*640, 3)[:,0]"
      ],
      "execution_count": null,
      "outputs": []
    },
    {
      "cell_type": "code",
      "metadata": {
        "id": "fLbSQuSxmtiX",
        "colab_type": "code",
        "colab": {}
      },
      "source": [
        "# double check\n",
        "plt.imshow(original.reshape(480,640))"
      ],
      "execution_count": null,
      "outputs": []
    },
    {
      "cell_type": "code",
      "metadata": {
        "id": "G5lzj5PSmh3e",
        "colab_type": "code",
        "colab": {}
      },
      "source": [
        "# take top 8 vectors\n",
        "components = np.matmul(original, VT[:8,:].T)"
      ],
      "execution_count": null,
      "outputs": []
    },
    {
      "cell_type": "code",
      "metadata": {
        "id": "tZNNabHWnAru",
        "colab_type": "code",
        "colab": {}
      },
      "source": [
        "# reconstruct\n",
        "combined = np.matmul(components, VT[:8,:])\n",
        "plt.imshow(combined.reshape(480,640))"
      ],
      "execution_count": null,
      "outputs": []
    },
    {
      "cell_type": "code",
      "metadata": {
        "id": "LKftnmn6nCVc",
        "colab_type": "code",
        "colab": {}
      },
      "source": [
        "# repeat for other channels."
      ],
      "execution_count": null,
      "outputs": []
    },
    {
      "cell_type": "markdown",
      "metadata": {
        "id": "Z3q2Dcy5nWQ0",
        "colab_type": "text"
      },
      "source": [
        "# Final version: Read images and Get Eigenfaces"
      ]
    },
    {
      "cell_type": "markdown",
      "metadata": {
        "id": "Fqc64v2jGH_X",
        "colab_type": "text"
      },
      "source": [
        "## Key functions"
      ]
    },
    {
      "cell_type": "code",
      "metadata": {
        "id": "sbP0-H1QENX-",
        "colab_type": "code",
        "colab": {}
      },
      "source": [
        "from PIL import Image\n",
        "import numpy as np\n",
        "import matplotlib.pyplot as plt"
      ],
      "execution_count": null,
      "outputs": []
    },
    {
      "cell_type": "code",
      "metadata": {
        "id": "yNC2Iuh6nXuY",
        "colab_type": "code",
        "colab": {}
      },
      "source": [
        "def read_images(image_list):\n",
        "  \"\"\"image_list: names of images\"\"\"\n",
        "  images = []\n",
        "  for image in image_list:\n",
        "    im = np.array(Image.open(image))/255\n",
        "    images.append(im)\n",
        "\n",
        "  image_data = np.stack(images)\n",
        "  return image_data # num_img, x, y, 3\n",
        "\n",
        "def get_avg_face(image_data):\n",
        "  \"\"\"avg face: x, y, 3 dimensions with 3 rgb channels\"\"\"\n",
        "  avg = np.average(image_data, axis=0)\n",
        "  assert avg.shape == image_data.shape[1:]\n",
        "  assert avg.shape[2] == 3\n",
        "  return avg\n",
        "\n",
        "def subtract_avg_face(image_data, avg_face):\n",
        "  \"\"\"centered images\"\"\"\n",
        "  return image_data - avg_face\n",
        "\n",
        "def svd_one_channel(image_one_channel):\n",
        "  \"\"\"input image: dims n, x,y\"\"\"\n",
        "  shape = image_one_channel.shape\n",
        "  assert len(shape) == 3\n",
        "\n",
        "  # reshape before svd\n",
        "  reshaped = image_one_channel.reshape(shape[0], shape[1]*shape[2])\n",
        "  U, sigma, VT = np.linalg.svd(reshaped, full_matrices=False)\n",
        "  return U, sigma, VT\n",
        "\n",
        "def plot_decay(sigma):\n",
        "  \"\"\"plot sigma component decay pca\"\"\"\n",
        "  plt.plot([sigma[i] for i in range(len(sigma))]) # can cap this later\n",
        "\n",
        "def compress(image_channel, VT, num_comp):\n",
        "  \"\"\"input x, y image single image\"\"\"\n",
        "  shape = image_channel.shape\n",
        "  reshaped = image_channel.reshape(shape[0]*shape[1])\n",
        "  rcomponents = np.matmul(reshaped, VT[:num_comp,:].T)\n",
        "  return rcomponents\n",
        "\n",
        "def reconstruct(rcomponents, VT, num_comp):\n",
        "  \"\"\"components for single channel\"\"\"\n",
        "  combined = np.matmul(rcomponents, VT[:num_comp,:])\n",
        "  return combined # x*y one-D vector\n",
        "\n",
        "def compare(original, full_reconstructed):\n",
        "  \"\"\"show original vs components\"\"\"\n",
        "  f, subf = plt.subplots(1,2)\n",
        "  subf[0].imshow(original)\n",
        "\n",
        "  # right now only 1 channel so 0:2\n",
        "  subf[1].imshow(full_reconstructed.reshape(original.shape))\n",
        "  "
      ],
      "execution_count": null,
      "outputs": []
    },
    {
      "cell_type": "markdown",
      "metadata": {
        "id": "hPNvxCCZGL5N",
        "colab_type": "text"
      },
      "source": [
        "## Example run"
      ]
    },
    {
      "cell_type": "code",
      "metadata": {
        "id": "olQjBZBC1U7k",
        "colab_type": "code",
        "colab": {
          "base_uri": "https://localhost:8080/",
          "height": 265
        },
        "outputId": "1a3ec062-9bf0-43a1-a9e1-588e8e1546cd"
      },
      "source": [
        "plot_decay(sigmar) # use this to pick num_comp"
      ],
      "execution_count": null,
      "outputs": [
        {
          "output_type": "display_data",
          "data": {
            "image/png": "[encoded data removed]",
            "text/plain": [
              "<Figure size 432x288 with 1 Axes>"
            ]
          },
          "metadata": {
            "tags": [],
            "needs_background": "light"
          }
        }
      ]
    },
    {
      "cell_type": "markdown",
      "metadata": {
        "id": "fmYOXQbj4O2F",
        "colab_type": "text"
      },
      "source": [
        "## Prepare image data, perform compression"
      ]
    },
    {
      "cell_type": "code",
      "metadata": {
        "id": "c9g_PxLO4OQV",
        "colab_type": "code",
        "colab": {}
      },
      "source": [
        "# reference: https://stackoverflow.com/questions/33311153/python-extracting-and-saving-video-frames\n",
        "import cv2\n",
        "vid = cv2.VideoCapture('stockvideo_pixabay.mp4') #2.4 MB, 25 fps; total 50 frames\n",
        "# check how many frames this is later...\n",
        "# pexels_face_talking: 24+ fps, 509 frames 21 sec. 747kb\n",
        "\n",
        "success, image = vid.read()\n",
        "idx = 0\n",
        "\n",
        "while success: # continue reading\n",
        "  # save locally.\n",
        "  cv2.imwrite(\"frame%d.jpg\" % idx, image)     # frame to .jpg      \n",
        "  success, image = vid.read()\n",
        "  idx += 1"
      ],
      "execution_count": null,
      "outputs": []
    },
    {
      "cell_type": "code",
      "metadata": {
        "id": "gNXqsT0z5sO9",
        "colab_type": "code",
        "colab": {}
      },
      "source": [
        "image_list = [\"frame\" + str(i) + \".jpg\" for i in range(510)]"
      ],
      "execution_count": null,
      "outputs": []
    },
    {
      "cell_type": "markdown",
      "metadata": {
        "id": "eOJvIeqMGTQr",
        "colab_type": "text"
      },
      "source": [
        "Be sure to run \"Key functions\" before this."
      ]
    },
    {
      "cell_type": "code",
      "metadata": {
        "id": "2Wr88Fe57Hq0",
        "colab_type": "code",
        "colab": {}
      },
      "source": [
        "def compress_image_list(image_list, num_comp=10):\n",
        "  image_data = read_images(image_list)\n",
        "  # print(image_data.shape)\n",
        "  avg_face = get_avg_face(image_data)\n",
        "  centered = subtract_avg_face(image_data, avg_face)\n",
        "  rchannel = centered[:,:,:,0]\n",
        "  gchannel = centered[:,:,:,1]\n",
        "  bchannel = centered[:,:,:,2]\n",
        "\n",
        "  ur, sigmar, vtr = svd_one_channel(rchannel)\n",
        "  ug, sigmag, vtg = svd_one_channel(gchannel)\n",
        "  ub, sigmab, vtb = svd_one_channel(bchannel)\n",
        "\n",
        "  # num_comp = 10\n",
        "  for image_index in range(len(image_list)):\n",
        "  # image_index = 7\n",
        "    rcomponents = compress(rchannel[image_index], vtr, num_comp)\n",
        "    gcomponents = compress(gchannel[image_index], vtg, num_comp)\n",
        "    bcomponents = compress(bchannel[image_index], vtb, num_comp)\n",
        "\n",
        "    np.save('image'+str(image_index) + 'r', rcomponents)\n",
        "    np.save('image'+str(image_index) + 'g', gcomponents)\n",
        "    np.save('image'+str(image_index) + 'b', bcomponents)\n",
        "\n",
        "\n",
        "  np.save('average', avg_face)\n",
        "  np.save('eigenr', vtr[:num_comp, :])\n",
        "  np.save('eigeng', vtg[:num_comp, :])\n",
        "  np.save('eigenb', vtb[:num_comp, :])\n",
        "\n",
        "  plot_decay(sigmar)\n"
      ],
      "execution_count": null,
      "outputs": []
    },
    {
      "cell_type": "code",
      "metadata": {
        "id": "fW1sO1_7CZoR",
        "colab_type": "code",
        "colab": {
          "base_uri": "https://localhost:8080/",
          "height": 265
        },
        "outputId": "22483d4a-de78-4720-a491-e87d033338f2"
      },
      "source": [
        "compress_image_list(image_list)"
      ],
      "execution_count": null,
      "outputs": [
        {
          "output_type": "display_data",
          "data": {
            "image/png": "[encoded data removed]",
            "text/plain": [
              "<Figure size 432x288 with 1 Axes>"
            ]
          },
          "metadata": {
            "tags": [],
            "needs_background": "light"
          }
        }
      ]
    },
    {
      "cell_type": "markdown",
      "metadata": {
        "id": "pCZhOsUAEgNU",
        "colab_type": "text"
      },
      "source": [
        "## Reconstruct images and video"
      ]
    },
    {
      "cell_type": "code",
      "metadata": {
        "id": "Yi7t8uqweLKR",
        "colab_type": "code",
        "colab": {}
      },
      "source": [
        "# can decide on num_comp based on decay here.\n",
        "num_comp = 25"
      ],
      "execution_count": null,
      "outputs": []
    },
    {
      "cell_type": "code",
      "metadata": {
        "id": "nQ5IoI-WxsoT",
        "colab_type": "code",
        "colab": {}
      },
      "source": [
        "# make sure to use correct shape.\n",
        "im = np.array(Image.open(\"frame0.jpg\"))/255"
      ],
      "execution_count": null,
      "outputs": []
    },
    {
      "cell_type": "code",
      "metadata": {
        "id": "Fg7aGbARxwOK",
        "colab_type": "code",
        "colab": {
          "base_uri": "https://localhost:8080/",
          "height": 34
        },
        "outputId": "39a8794c-a528-4922-ca6a-007126e150a1"
      },
      "source": [
        "im.shape"
      ],
      "execution_count": null,
      "outputs": [
        {
          "output_type": "execute_result",
          "data": {
            "text/plain": [
              "(360, 640, 3)"
            ]
          },
          "metadata": {
            "tags": []
          },
          "execution_count": 36
        }
      ]
    },
    {
      "cell_type": "code",
      "metadata": {
        "id": "KuKn_r12Efsh",
        "colab_type": "code",
        "colab": {
          "base_uri": "https://localhost:8080/",
          "height": 587
        },
        "outputId": "2de7287f-f097-4ef1-dab0-aaa8fa8fb1d6"
      },
      "source": [
        "# read components from image_components.txt\n",
        "# read average face from average_and_eigen.txt\n",
        "# size is just the size i forgot to save this , 720 times 1080 i think\n",
        "import os.path\n",
        "\n",
        "avg_face = np.load('average.npy')\n",
        "vtr = np.load('eigenr.npy')\n",
        "vtg = np.load('eigeng.npy')\n",
        "vtb = np.load('eigenb.npy')\n",
        "\n",
        "# uncomment if needed\n",
        "# num_comp = len(vtr)\n",
        "\n",
        "img_idx = 0\n",
        "while os.path.isfile('image'+str(img_idx) + 'r.npy'):\n",
        "  rcomponents = np.load('image'+str(img_idx) + 'r.npy')\n",
        "  gcomponents = np.load('image'+str(img_idx) + 'g.npy')\n",
        "  bcomponents = np.load('image'+str(img_idx) + 'b.npy')\n",
        "\n",
        "  rreconstructed = reconstruct(rcomponents, vtr, num_comp)\n",
        "  greconstructed = reconstruct(gcomponents, vtg, num_comp)\n",
        "  breconstructed = reconstruct(bcomponents, vtb, num_comp)\n",
        "  # print(rreconstructed.shape)\n",
        "\n",
        "  full_reconstructed = np.stack([rreconstructed, greconstructed, breconstructed], axis=1)\n",
        "  full_reconstructed = full_reconstructed.reshape(im.shape) # double check this\n",
        "  # print(full_reconstructed.shape)\n",
        "\n",
        "  full_reconstructed_plus_avg = full_reconstructed + avg_face\n",
        "\n",
        "  adjusted = full_reconstructed_plus_avg.clip(0, 1)\n",
        "  plt.imshow(adjusted)\n",
        "  plt.imsave(\"outputimage\"+str(img_idx)+\".jpg\", adjusted)\n",
        "\n",
        "  img_idx += 1\n",
        "\n",
        "  if img_idx % 25 == 0:\n",
        "    print(\"Processing image\", img_idx)\n"
      ],
      "execution_count": null,
      "outputs": [
        {
          "output_type": "stream",
          "text": [
            "Processing image 25\n",
            "Processing image 50\n",
            "Processing image 75\n",
            "Processing image 100\n",
            "Processing image 125\n",
            "Processing image 150\n",
            "Processing image 175\n",
            "Processing image 200\n",
            "Processing image 225\n",
            "Processing image 250\n",
            "Processing image 275\n",
            "Processing image 300\n",
            "Processing image 325\n",
            "Processing image 350\n",
            "Processing image 375\n",
            "Processing image 400\n",
            "Processing image 425\n",
            "Processing image 450\n",
            "Processing image 475\n",
            "Processing image 500\n"
          ],
          "name": "stdout"
        },
        {
          "output_type": "display_data",
          "data": {
            "image/png": "[encoded data removed]",
            "text/plain": [
              "<Figure size 432x288 with 1 Axes>"
            ]
          },
          "metadata": {
            "tags": [],
            "needs_background": "light"
          }
        }
      ]
    },
    {
      "cell_type": "code",
      "metadata": {
        "id": "4c6HufT7Hlec",
        "colab_type": "code",
        "colab": {}
      },
      "source": [
        "import moviepy.video.io.ImageSequenceClip\n",
        "images = [i for i in os.listdir('.') if 'outputimage' in i]"
      ],
      "execution_count": null,
      "outputs": []
    },
    {
      "cell_type": "code",
      "metadata": {
        "id": "9JR_uzuUPFfD",
        "colab_type": "code",
        "colab": {}
      },
      "source": [
        "def imgnum(img):\n",
        "  x = img.replace(\"outputimage\",\"\")\n",
        "  x = x.replace(\".jpg\", \"\")\n",
        "  return int(x)\n",
        "  \n",
        "images.sort(key=imgnum)"
      ],
      "execution_count": null,
      "outputs": []
    },
    {
      "cell_type": "code",
      "metadata": {
        "id": "hMun7jThOYRO",
        "colab_type": "code",
        "colab": {
          "base_uri": "https://localhost:8080/",
          "height": 121
        },
        "outputId": "c2e09b6d-fa10-4a68-8838-67aba267e0dd"
      },
      "source": [
        "fps = 25 #original\n",
        "clip = moviepy.video.io.ImageSequenceClip.ImageSequenceClip(images, fps=fps)\n",
        "clip.write_videofile('output_video.mp4')"
      ],
      "execution_count": null,
      "outputs": [
        {
          "output_type": "stream",
          "text": [
            "[MoviePy] >>>> Building video output_video.mp4\n",
            "[MoviePy] Writing video output_video.mp4\n"
          ],
          "name": "stdout"
        },
        {
          "output_type": "stream",
          "text": [
            "100%|██████████| 510/510 [00:07<00:00, 66.16it/s]\n"
          ],
          "name": "stderr"
        },
        {
          "output_type": "stream",
          "text": [
            "[MoviePy] Done.\n",
            "[MoviePy] >>>> Video ready: output_video.mp4 \n",
            "\n"
          ],
          "name": "stdout"
        }
      ]
    },
    {
      "cell_type": "code",
      "metadata": {
        "id": "NcaNcbj8y1GG",
        "colab_type": "code",
        "colab": {
          "base_uri": "https://localhost:8080/",
          "height": 17
        },
        "outputId": "421c2fbc-8e62-4429-a846-68c887bfdc64"
      },
      "source": [
        "from google.colab import files\n",
        "files.download(\"output_video.mp4\")"
      ],
      "execution_count": null,
      "outputs": [
        {
          "output_type": "display_data",
          "data": {
            "application/javascript": [
              "\n",
              "    async function download(id, filename, size) {\n",
              "      if (!google.colab.kernel.accessAllowed) {\n",
              "        return;\n",
              "      }\n",
              "      const div = document.createElement('div');\n",
              "      const label = document.createElement('label');\n",
              "      label.textContent = `Downloading \"${filename}\": `;\n",
              "      div.appendChild(label);\n",
              "      const progress = document.createElement('progress');\n",
              "      progress.max = size;\n",
              "      div.appendChild(progress);\n",
              "      document.body.appendChild(div);\n",
              "\n",
              "      const buffers = [];\n",
              "      let downloaded = 0;\n",
              "\n",
              "      const channel = await google.colab.kernel.comms.open(id);\n",
              "      // Send a message to notify the kernel that we're ready.\n",
              "      channel.send({})\n",
              "\n",
              "      for await (const message of channel.messages) {\n",
              "        // Send a message to notify the kernel that we're ready.\n",
              "        channel.send({})\n",
              "        if (message.buffers) {\n",
              "          for (const buffer of message.buffers) {\n",
              "            buffers.push(buffer);\n",
              "            downloaded += buffer.byteLength;\n",
              "            progress.value = downloaded;\n",
              "          }\n",
              "        }\n",
              "      }\n",
              "      const blob = new Blob(buffers, {type: 'application/binary'});\n",
              "      const a = document.createElement('a');\n",
              "      a.href = window.URL.createObjectURL(blob);\n",
              "      a.download = filename;\n",
              "      div.appendChild(a);\n",
              "      a.click();\n",
              "      div.remove();\n",
              "    }\n",
              "  "
            ],
            "text/plain": [
              "<IPython.core.display.Javascript object>"
            ]
          },
          "metadata": {
            "tags": []
          }
        },
        {
          "output_type": "display_data",
          "data": {
            "application/javascript": [
              "download(\"download_dbdca3e5-b31b-4de8-95a7-406434c7cae5\", \"output_video.mp4\", 889621)"
            ],
            "text/plain": [
              "<IPython.core.display.Javascript object>"
            ]
          },
          "metadata": {
            "tags": []
          }
        }
      ]
    },
    {
      "cell_type": "markdown",
      "metadata": {
        "id": "HojZCvvd7xkr",
        "colab_type": "text"
      },
      "source": [
        "Compare the size if we put all numbers into a text file"
      ]
    },
    {
      "cell_type": "code",
      "metadata": {
        "id": "fP09YOgay3K6",
        "colab_type": "code",
        "colab": {}
      },
      "source": [
        "npy_files = [i for i in os.listdir('.') if '.npy' in i and 'image' in i]\n",
        "\n",
        "with open(\"all_npy_nums.txt\", 'w') as f:\n",
        "  for file in npy_files:\n",
        "    array = np.load(file)\n",
        "    string_out = np.array2string(array, precision=4)\n",
        "    f.write(string_out)\n",
        "  f.close()"
      ],
      "execution_count": null,
      "outputs": []
    },
    {
      "cell_type": "code",
      "metadata": {
        "id": "DDrU-M7W5SAj",
        "colab_type": "code",
        "colab": {
          "base_uri": "https://localhost:8080/",
          "height": 17
        },
        "outputId": "4076e72d-bffa-416b-eda8-e89602215eb8"
      },
      "source": [
        "files.download(\"all_npy_nums.txt\")"
      ],
      "execution_count": null,
      "outputs": [
        {
          "output_type": "display_data",
          "data": {
            "application/javascript": [
              "\n",
              "    async function download(id, filename, size) {\n",
              "      if (!google.colab.kernel.accessAllowed) {\n",
              "        return;\n",
              "      }\n",
              "      const div = document.createElement('div');\n",
              "      const label = document.createElement('label');\n",
              "      label.textContent = `Downloading \"${filename}\": `;\n",
              "      div.appendChild(label);\n",
              "      const progress = document.createElement('progress');\n",
              "      progress.max = size;\n",
              "      div.appendChild(progress);\n",
              "      document.body.appendChild(div);\n",
              "\n",
              "      const buffers = [];\n",
              "      let downloaded = 0;\n",
              "\n",
              "      const channel = await google.colab.kernel.comms.open(id);\n",
              "      // Send a message to notify the kernel that we're ready.\n",
              "      channel.send({})\n",
              "\n",
              "      for await (const message of channel.messages) {\n",
              "        // Send a message to notify the kernel that we're ready.\n",
              "        channel.send({})\n",
              "        if (message.buffers) {\n",
              "          for (const buffer of message.buffers) {\n",
              "            buffers.push(buffer);\n",
              "            downloaded += buffer.byteLength;\n",
              "            progress.value = downloaded;\n",
              "          }\n",
              "        }\n",
              "      }\n",
              "      const blob = new Blob(buffers, {type: 'application/binary'});\n",
              "      const a = document.createElement('a');\n",
              "      a.href = window.URL.createObjectURL(blob);\n",
              "      a.download = filename;\n",
              "      div.appendChild(a);\n",
              "      a.click();\n",
              "      div.remove();\n",
              "    }\n",
              "  "
            ],
            "text/plain": [
              "<IPython.core.display.Javascript object>"
            ]
          },
          "metadata": {
            "tags": []
          }
        },
        {
          "output_type": "display_data",
          "data": {
            "application/javascript": [
              "download(\"download_0753708f-28cc-4af4-a97f-edbb62a07ec9\", \"all_npy_nums.txt\", 140223)"
            ],
            "text/plain": [
              "<IPython.core.display.Javascript object>"
            ]
          },
          "metadata": {
            "tags": []
          }
        }
      ]
    }
  ]
}